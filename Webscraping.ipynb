{
 "cells": [
  {
   "cell_type": "markdown",
   "id": "f5c1f4a9",
   "metadata": {},
   "source": [
    "# Webscraping from cek-ongkir.com"
   ]
  },
  {
   "cell_type": "code",
   "execution_count": 1,
   "id": "602e0737",
   "metadata": {},
   "outputs": [],
   "source": [
    "# LIBRARIES\n",
    "\n",
    "from selenium.webdriver import Chrome\n",
    "import pandas as pd\n",
    "import gspread"
   ]
  },
  {
   "cell_type": "code",
   "execution_count": 2,
   "id": "4bb624ff",
   "metadata": {},
   "outputs": [],
   "source": [
    "# GSHEET PYTHON INITIALIZATION\n",
    "\n",
    "srv_acc = gspread.service_account(filename='scraping-cekongkir-7a1ffd441444.json')\n",
    "sheet = srv_acc.open(\"Hari-Budiarto_Python\")\n",
    "wrksh_read = sheet.worksheet('City_list')\n",
    "wrksh_write = sheet.worksheet('Question2')"
   ]
  },
  {
   "cell_type": "code",
   "execution_count": 7,
   "id": "da9753d8",
   "metadata": {
    "scrolled": true
   },
   "outputs": [
    {
     "name": "stdout",
     "output_type": "stream",
     "text": [
      "PREVIEW ORIGIN DESTINATION LIST FROM GSHEET\n",
      "['Yogyakarta', 'Kota Yogyakarta', 'Pagar Alam', 'Kota Pagar Alam']\n"
     ]
    }
   ],
   "source": [
    "# GET OD LIST FROM GSHEET\n",
    "\n",
    "od_list = wrksh_read.get_all_values()\n",
    "\n",
    "print('PREVIEW ORIGIN DESTINATION LIST FROM GSHEET')\n",
    "print(od_list[0])"
   ]
  },
  {
   "cell_type": "code",
   "execution_count": 8,
   "id": "765a3865",
   "metadata": {},
   "outputs": [],
   "source": [
    "# SCRAPING AND PUT RESULT INTO LIST\n",
    "\n",
    "data = []\n",
    "driver = Chrome()\n",
    "\n",
    "for row in od_list:\n",
    "    \n",
    "    # Unpack od list\n",
    "    o, o_complete, d, d_complete = row\n",
    "\n",
    "    \n",
    "    # Open the website\n",
    "    driver.get('https://cek-ongkir.com')\n",
    "    driver.maximize_window()\n",
    "    driver.implicitly_wait(10)\n",
    "    \n",
    "    \n",
    "    # Fill origin form\n",
    "    orig = driver.find_element_by_xpath('//input[@name=\"origin\"]')\n",
    "    orig.clear()\n",
    "    orig.send_keys(o)\n",
    "\n",
    "    for orig_complete in driver.find_elements_by_xpath('//ul[@id=\"ui-id-1\"]//div'):\n",
    "        if orig_complete.text == o_complete:\n",
    "            driver.execute_script(\"arguments[0].click();\", orig_complete)\n",
    "            break\n",
    "\n",
    "\n",
    "    # Fill dest form        \n",
    "    dest = driver.find_element_by_xpath('//input[@name=\"destination\"]')\n",
    "    dest.clear()\n",
    "    dest.send_keys(d)\n",
    "    \n",
    "    for dest_complete in driver.find_elements_by_xpath('//ul[@id=\"ui-id-2\"]//div'):\n",
    "        if dest_complete.text == d_complete:\n",
    "            driver.execute_script(\"arguments[0].click();\", dest_complete)\n",
    "            break\n",
    "\n",
    "            \n",
    "    # Find result        \n",
    "    cek_ongkir = driver.find_element_by_xpath('//button[@id=\"send\"]')\n",
    "    driver.execute_script(\"arguments[0].click();\", cek_ongkir)\n",
    "\n",
    "    \n",
    "    # Scrape the result and put in list\n",
    "    results = driver.find_elements_by_xpath('//table[@id=\"result-ongkir\"]')\n",
    "\n",
    "    for r in results:\n",
    "        courier = r.find_element_by_xpath('.//td[1]').text\n",
    "        price = r.find_element_by_xpath('.//td[2]').text\n",
    "        duration = r.find_element_by_xpath('.//p').text\n",
    "        new_row = {'courier': courier, 'price': price,'duration': duration,\n",
    "                   'origin': o_complete,'destination': d_complete}\n",
    "        data.append(new_row)\n",
    "\n"
   ]
  },
  {
   "cell_type": "code",
   "execution_count": 15,
   "id": "3b127cb0",
   "metadata": {},
   "outputs": [
    {
     "name": "stdout",
     "output_type": "stream",
     "text": [
      "PREVIEW SCRAPING RESULT\n"
     ]
    },
    {
     "data": {
      "text/html": [
       "<div>\n",
       "<style scoped>\n",
       "    .dataframe tbody tr th:only-of-type {\n",
       "        vertical-align: middle;\n",
       "    }\n",
       "\n",
       "    .dataframe tbody tr th {\n",
       "        vertical-align: top;\n",
       "    }\n",
       "\n",
       "    .dataframe thead th {\n",
       "        text-align: right;\n",
       "    }\n",
       "</style>\n",
       "<table border=\"1\" class=\"dataframe\">\n",
       "  <thead>\n",
       "    <tr style=\"text-align: right;\">\n",
       "      <th></th>\n",
       "      <th>courier</th>\n",
       "      <th>price</th>\n",
       "      <th>duration</th>\n",
       "      <th>origin</th>\n",
       "      <th>destination</th>\n",
       "    </tr>\n",
       "  </thead>\n",
       "  <tbody>\n",
       "    <tr>\n",
       "      <th>1</th>\n",
       "      <td>Jalur Nugraha Ekakurir (JNE)\\n[REG ] Layanan R...</td>\n",
       "      <td>Rp.53000</td>\n",
       "      <td>4-5 hari</td>\n",
       "      <td>Kota Yogyakarta</td>\n",
       "      <td>Kota Pagar Alam</td>\n",
       "    </tr>\n",
       "    <tr>\n",
       "      <th>3</th>\n",
       "      <td>Jalur Nugraha Ekakurir (JNE)\\n[REG ] Layanan R...</td>\n",
       "      <td>Rp.124000</td>\n",
       "      <td>3-4 hari</td>\n",
       "      <td>Kota Tual</td>\n",
       "      <td>Kota Padang Sidempuan</td>\n",
       "    </tr>\n",
       "    <tr>\n",
       "      <th>5</th>\n",
       "      <td>Jalur Nugraha Ekakurir (JNE)\\n[REG ] Layanan R...</td>\n",
       "      <td>Rp.92000</td>\n",
       "      <td>3-4 hari</td>\n",
       "      <td>Kota Tomohon</td>\n",
       "      <td>Kota Padang Panjang</td>\n",
       "    </tr>\n",
       "    <tr>\n",
       "      <th>7</th>\n",
       "      <td>Jalur Nugraha Ekakurir (JNE)\\n[REG ] Layanan R...</td>\n",
       "      <td>Rp.117000</td>\n",
       "      <td>2-3 hari</td>\n",
       "      <td>Kota Tidore Kepulauan</td>\n",
       "      <td>Kota Padang</td>\n",
       "    </tr>\n",
       "    <tr>\n",
       "      <th>9</th>\n",
       "      <td>Jalur Nugraha Ekakurir (JNE)\\n[REG ] Layanan R...</td>\n",
       "      <td>Rp.78000</td>\n",
       "      <td>2-3 hari</td>\n",
       "      <td>Kota Ternate</td>\n",
       "      <td>Kota Mojokerto</td>\n",
       "    </tr>\n",
       "  </tbody>\n",
       "</table>\n",
       "</div>"
      ],
      "text/plain": [
       "                                             courier      price  duration  \\\n",
       "1  Jalur Nugraha Ekakurir (JNE)\\n[REG ] Layanan R...   Rp.53000  4-5 hari   \n",
       "3  Jalur Nugraha Ekakurir (JNE)\\n[REG ] Layanan R...  Rp.124000  3-4 hari   \n",
       "5  Jalur Nugraha Ekakurir (JNE)\\n[REG ] Layanan R...   Rp.92000  3-4 hari   \n",
       "7  Jalur Nugraha Ekakurir (JNE)\\n[REG ] Layanan R...  Rp.117000  2-3 hari   \n",
       "9  Jalur Nugraha Ekakurir (JNE)\\n[REG ] Layanan R...   Rp.78000  2-3 hari   \n",
       "\n",
       "                  origin            destination  \n",
       "1        Kota Yogyakarta        Kota Pagar Alam  \n",
       "3              Kota Tual  Kota Padang Sidempuan  \n",
       "5           Kota Tomohon    Kota Padang Panjang  \n",
       "7  Kota Tidore Kepulauan            Kota Padang  \n",
       "9           Kota Ternate         Kota Mojokerto  "
      ]
     },
     "execution_count": 15,
     "metadata": {},
     "output_type": "execute_result"
    }
   ],
   "source": [
    "# PREPARE DATA FOR EXPORT\n",
    "\n",
    "df = pd.DataFrame.from_records(data)\n",
    "# df.rename(columns = {'courier':'3PL','price':'Ongkir','duration':'ETA',\n",
    "#                     'origin':'From','destination':'To'}, inplace = True)\n",
    "\n",
    "df = df.loc[df['courier'] == 'Jalur Nugraha Ekakurir (JNE)\\n[REG ] Layanan Reguler'] \n",
    "\n",
    "print('PREVIEW SCRAPING RESULT')\n",
    "df.head()"
   ]
  },
  {
   "cell_type": "code",
   "execution_count": 17,
   "id": "c19a44e8",
   "metadata": {},
   "outputs": [
    {
     "name": "stderr",
     "output_type": "stream",
     "text": [
      "/Users/haribudiarto/anaconda3/lib/python3.10/site-packages/gspread/worksheet.py:1046: UserWarning: [Deprecated][in version 6.0.0]: method signature will change to: 'Worksheet.update(value = [[]], range_name=)' arguments 'range_name' and 'values' will swap, values will be mandatory of type: 'list(list(...))'\n",
      "  warnings.warn(\n"
     ]
    },
    {
     "data": {
      "text/plain": [
       "{'spreadsheetId': '1MnRgKztsYs-JkUm-EelPwEDwQllJnGg6HjyIJY9E7_c',\n",
       " 'updatedRange': 'Question2!A2:E48',\n",
       " 'updatedRows': 47,\n",
       " 'updatedColumns': 5,\n",
       " 'updatedCells': 235}"
      ]
     },
     "execution_count": 17,
     "metadata": {},
     "output_type": "execute_result"
    }
   ],
   "source": [
    "# WRITE DATA TO GSHEET\n",
    "\n",
    "wrksh_write.update('A1',[['3PL','Ongkir','ETA','From','To']])\n",
    "wrksh_write.update('A2',df.values.tolist())"
   ]
  }
 ],
 "metadata": {
  "kernelspec": {
   "display_name": "Python 3 (ipykernel)",
   "language": "python",
   "name": "python3"
  },
  "language_info": {
   "codemirror_mode": {
    "name": "ipython",
    "version": 3
   },
   "file_extension": ".py",
   "mimetype": "text/x-python",
   "name": "python",
   "nbconvert_exporter": "python",
   "pygments_lexer": "ipython3",
   "version": "3.10.9"
  }
 },
 "nbformat": 4,
 "nbformat_minor": 5
}
